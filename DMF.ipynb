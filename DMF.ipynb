{
 "cells": [
  {
   "cell_type": "code",
   "execution_count": 1,
   "metadata": {},
   "outputs": [
    {
     "name": "stdout",
     "output_type": "stream",
     "text": [
      "Requirement already satisfied: findspark in ./.local/lib/python3.7/site-packages (1.3.0)\r\n"
     ]
    }
   ],
   "source": [
    "!pip3 install --user findspark\n",
    "import findspark\n",
    "findspark.init()"
   ]
  },
  {
   "cell_type": "code",
   "execution_count": 2,
   "metadata": {},
   "outputs": [],
   "source": [
    "from pyspark.sql import SparkSession\n",
    "\n",
    "spark = SparkSession.builder.\\\n",
    "    appName(\"DMF\").\\\n",
    "    getOrCreate()"
   ]
  },
  {
   "cell_type": "code",
   "execution_count": 3,
   "metadata": {},
   "outputs": [
    {
     "name": "stdout",
     "output_type": "stream",
     "text": [
      "WARNING: An illegal reflective access operation has occurred\n",
      "WARNING: Illegal reflective access by org.apache.hadoop.security.authentication.util.KerberosUtil (file:/opt/hadoop/share/hadoop/common/lib/hadoop-auth-2.9.2.jar) to method sun.security.krb5.Config.getInstance()\n",
      "WARNING: Please consider reporting this to the maintainers of org.apache.hadoop.security.authentication.util.KerberosUtil\n",
      "WARNING: Use --illegal-access=warn to enable warnings of further illegal reflective access operations\n",
      "WARNING: All illegal access operations will be denied in a future release\n",
      "             \n",
      " 241527850BURDETTE                HOWARD                         0500197907271932                   \n",
      " 241527855CALDWELL                DWIGHT                         0800198004161937                   \n",
      " 241527858HUNT                    MILDRED        D              V0807200809051937                   \n",
      " 241527859TARLTON                 DAVID          R              V0706201112231937                   \n",
      " 241527861WATKINS                 MARY           A              V0806199903091919                   \n",
      " 241527863HONEYCUTT               EUNICE         H              P0929201104051936                   \n",
      " 241527865HOLLIS                  ENSLEY                         0700198610151935                   \n",
      " 241527869THOMAS                  C                             V0115199303161938                   \n",
      " 241527870WEST                    HARRIETT       K              V1216200902131937                   \n",
      " 241527876DELLINGER               MARGIE         L              V1114201111031937                   \n"
     ]
    }
   ],
   "source": [
    "!hdfs dfs -tail /DMF/DMF/ssdm1"
   ]
  },
  {
   "cell_type": "code",
   "execution_count": 4,
   "metadata": {},
   "outputs": [],
   "source": [
    "df1=spark.read.csv('/DMF/DMF/ssdm1')\n",
    "df2=spark.read.csv('/DMF/DMF/ssdm2')\n",
    "df3=spark.read.csv('/DMF/DMF/ssdm3')\n",
    "df=df1.union(df2).union(df3)"
   ]
  },
  {
   "cell_type": "code",
   "execution_count": 5,
   "metadata": {},
   "outputs": [
    {
     "name": "stdout",
     "output_type": "stream",
     "text": [
      "+--------------------+\n",
      "|                 _c0|\n",
      "+--------------------+\n",
      "| 001010001MUZZEY ...|\n",
      "| 001010009SMITH  ...|\n",
      "| 001010010HAMMOND...|\n",
      "| 001010011DREW   ...|\n",
      "| 001010012CATE   ...|\n",
      "| 001010013WHORFE ...|\n",
      "| 001010015AMOS   ...|\n",
      "| 001010016KUNCHO ...|\n",
      "| 001010017MICHALS...|\n",
      "| 001010019BODWELL...|\n",
      "+--------------------+\n",
      "only showing top 10 rows\n",
      "\n"
     ]
    }
   ],
   "source": [
    "df.show(10)"
   ]
  },
  {
   "cell_type": "code",
   "execution_count": 5,
   "metadata": {},
   "outputs": [],
   "source": [
    "from pyspark.sql.types import StringType\n",
    "from pyspark.sql.functions import udf, to_date\n",
    "import re\n",
    "\n",
    "udf1 = udf(lambda x:x[0:1].strip(),StringType())\n",
    "udf2 = udf(lambda x:x[1:10].strip(),StringType())\n",
    "udf3 = udf(lambda x:x[10:30].strip(),StringType())\n",
    "udf4 = udf(lambda x:x[30:34].strip(),StringType())\n",
    "udf5 = udf(lambda x:x[34:49].strip(),StringType())\n",
    "udf6 = udf(lambda x:x[49:64].strip(),StringType())\n",
    "udf7 = udf(lambda x:x[64:65].strip(),StringType())\n",
    "udf8 = udf(lambda x:re.sub(\"00(\\d{4})\",r'01\\1',x[65:73].strip()),StringType())\n",
    "udf9 = udf(lambda x:x[73:81].strip(),StringType())\n",
    "\n",
    "df=df.withColumn('transaction_type',udf1('_c0'))\\\n",
    "    .withColumn('security_number',udf2('_c0'))\\\n",
    "    .withColumn('last_name',udf3('_c0'))\\\n",
    "    .withColumn('name_suffix',udf4('_c0'))\\\n",
    "    .withColumn('first_name',udf5('_c0'))\\\n",
    "    .withColumn('middle_name',udf6('_c0'))\\\n",
    "    .withColumn('V/P',udf7('_c0'))\\\n",
    "    .withColumn('death_date',to_date(udf8('_c0'),'MMddyyyy'))\\\n",
    "    .withColumn('birth_date',to_date(udf9('_c0'),'MMddyyyy'))\\\n",
    "    .drop('_c0')"
   ]
  },
  {
   "cell_type": "code",
   "execution_count": 7,
   "metadata": {},
   "outputs": [
    {
     "data": {
      "text/html": [
       "<div>\n",
       "<style scoped>\n",
       "    .dataframe tbody tr th:only-of-type {\n",
       "        vertical-align: middle;\n",
       "    }\n",
       "\n",
       "    .dataframe tbody tr th {\n",
       "        vertical-align: top;\n",
       "    }\n",
       "\n",
       "    .dataframe thead th {\n",
       "        text-align: right;\n",
       "    }\n",
       "</style>\n",
       "<table border=\"1\" class=\"dataframe\">\n",
       "  <thead>\n",
       "    <tr style=\"text-align: right;\">\n",
       "      <th></th>\n",
       "      <th>transaction_type</th>\n",
       "      <th>security_number</th>\n",
       "      <th>last_name</th>\n",
       "      <th>name_suffix</th>\n",
       "      <th>first_name</th>\n",
       "      <th>middle_name</th>\n",
       "      <th>V/P</th>\n",
       "      <th>death_date</th>\n",
       "      <th>birth_date</th>\n",
       "    </tr>\n",
       "  </thead>\n",
       "  <tbody>\n",
       "    <tr>\n",
       "      <th>0</th>\n",
       "      <td></td>\n",
       "      <td>001010001</td>\n",
       "      <td>MUZZEY</td>\n",
       "      <td></td>\n",
       "      <td>GRACE</td>\n",
       "      <td></td>\n",
       "      <td></td>\n",
       "      <td>1975-12-01</td>\n",
       "      <td>1902-04-16</td>\n",
       "    </tr>\n",
       "    <tr>\n",
       "      <th>1</th>\n",
       "      <td></td>\n",
       "      <td>001010009</td>\n",
       "      <td>SMITH</td>\n",
       "      <td></td>\n",
       "      <td>ROGER</td>\n",
       "      <td></td>\n",
       "      <td></td>\n",
       "      <td>1969-04-01</td>\n",
       "      <td>1892-02-04</td>\n",
       "    </tr>\n",
       "    <tr>\n",
       "      <th>2</th>\n",
       "      <td></td>\n",
       "      <td>001010010</td>\n",
       "      <td>HAMMOND</td>\n",
       "      <td></td>\n",
       "      <td>KENNETH</td>\n",
       "      <td></td>\n",
       "      <td></td>\n",
       "      <td>1976-03-01</td>\n",
       "      <td>1904-04-24</td>\n",
       "    </tr>\n",
       "    <tr>\n",
       "      <th>3</th>\n",
       "      <td></td>\n",
       "      <td>001010011</td>\n",
       "      <td>DREW</td>\n",
       "      <td></td>\n",
       "      <td>LEON</td>\n",
       "      <td>R</td>\n",
       "      <td>V</td>\n",
       "      <td>1987-08-30</td>\n",
       "      <td>1908-06-14</td>\n",
       "    </tr>\n",
       "    <tr>\n",
       "      <th>4</th>\n",
       "      <td></td>\n",
       "      <td>001010012</td>\n",
       "      <td>CATE</td>\n",
       "      <td></td>\n",
       "      <td>OLIVE</td>\n",
       "      <td></td>\n",
       "      <td></td>\n",
       "      <td>1981-09-01</td>\n",
       "      <td>1908-09-21</td>\n",
       "    </tr>\n",
       "    <tr>\n",
       "      <th>5</th>\n",
       "      <td></td>\n",
       "      <td>001010013</td>\n",
       "      <td>WHORFE</td>\n",
       "      <td></td>\n",
       "      <td>FRANK</td>\n",
       "      <td></td>\n",
       "      <td></td>\n",
       "      <td>1962-09-01</td>\n",
       "      <td>1888-04-06</td>\n",
       "    </tr>\n",
       "    <tr>\n",
       "      <th>6</th>\n",
       "      <td></td>\n",
       "      <td>001010015</td>\n",
       "      <td>AMOS</td>\n",
       "      <td></td>\n",
       "      <td>CHESTER</td>\n",
       "      <td></td>\n",
       "      <td></td>\n",
       "      <td>1984-02-01</td>\n",
       "      <td>1910-02-16</td>\n",
       "    </tr>\n",
       "    <tr>\n",
       "      <th>7</th>\n",
       "      <td></td>\n",
       "      <td>001010016</td>\n",
       "      <td>KUNCHO</td>\n",
       "      <td></td>\n",
       "      <td>DIMITRI</td>\n",
       "      <td></td>\n",
       "      <td></td>\n",
       "      <td>1981-03-01</td>\n",
       "      <td>1910-06-04</td>\n",
       "    </tr>\n",
       "    <tr>\n",
       "      <th>8</th>\n",
       "      <td></td>\n",
       "      <td>001010017</td>\n",
       "      <td>MICHALS</td>\n",
       "      <td></td>\n",
       "      <td>WILLIAM</td>\n",
       "      <td></td>\n",
       "      <td></td>\n",
       "      <td>1970-12-01</td>\n",
       "      <td>1907-11-07</td>\n",
       "    </tr>\n",
       "    <tr>\n",
       "      <th>9</th>\n",
       "      <td></td>\n",
       "      <td>001010019</td>\n",
       "      <td>BODWELL</td>\n",
       "      <td></td>\n",
       "      <td>MINNIE</td>\n",
       "      <td></td>\n",
       "      <td></td>\n",
       "      <td>1984-03-01</td>\n",
       "      <td>1895-04-05</td>\n",
       "    </tr>\n",
       "  </tbody>\n",
       "</table>\n",
       "</div>"
      ],
      "text/plain": [
       "  transaction_type security_number last_name name_suffix first_name  \\\n",
       "0                        001010001    MUZZEY                  GRACE   \n",
       "1                        001010009     SMITH                  ROGER   \n",
       "2                        001010010   HAMMOND                KENNETH   \n",
       "3                        001010011      DREW                   LEON   \n",
       "4                        001010012      CATE                  OLIVE   \n",
       "5                        001010013    WHORFE                  FRANK   \n",
       "6                        001010015      AMOS                CHESTER   \n",
       "7                        001010016    KUNCHO                DIMITRI   \n",
       "8                        001010017   MICHALS                WILLIAM   \n",
       "9                        001010019   BODWELL                 MINNIE   \n",
       "\n",
       "  middle_name V/P  death_date  birth_date  \n",
       "0                  1975-12-01  1902-04-16  \n",
       "1                  1969-04-01  1892-02-04  \n",
       "2                  1976-03-01  1904-04-24  \n",
       "3           R   V  1987-08-30  1908-06-14  \n",
       "4                  1981-09-01  1908-09-21  \n",
       "5                  1962-09-01  1888-04-06  \n",
       "6                  1984-02-01  1910-02-16  \n",
       "7                  1981-03-01  1910-06-04  \n",
       "8                  1970-12-01  1907-11-07  \n",
       "9                  1984-03-01  1895-04-05  "
      ]
     },
     "execution_count": 7,
     "metadata": {},
     "output_type": "execute_result"
    }
   ],
   "source": [
    "df.limit(10).toPandas()"
   ]
  },
  {
   "cell_type": "code",
   "execution_count": 54,
   "metadata": {},
   "outputs": [
    {
     "data": {
      "text/plain": [
       "1"
      ]
     },
     "execution_count": 54,
     "metadata": {},
     "output_type": "execute_result"
    }
   ],
   "source": [
    "df.select(df.transaction_type).distinct().count()\n"
   ]
  },
  {
   "cell_type": "code",
   "execution_count": 9,
   "metadata": {},
   "outputs": [],
   "source": [
    "rowCount=df.count()"
   ]
  },
  {
   "cell_type": "code",
   "execution_count": 68,
   "metadata": {},
   "outputs": [],
   "source": [
    "df=df.drop('transaction_type').withColumnRenamed(\"V/P\",\"VP\")"
   ]
  },
  {
   "cell_type": "code",
   "execution_count": 75,
   "metadata": {},
   "outputs": [
    {
     "data": {
      "text/plain": [
       "[Row(count(1)=40054147, VP=''),\n",
       " Row(count(1)=202039, VP='V'),\n",
       " Row(count(1)=2399, VP='P')]"
      ]
     },
     "execution_count": 75,
     "metadata": {},
     "output_type": "execute_result"
    }
   ],
   "source": [
    "df.createOrReplaceTempView(\"DMF\")\n",
    "spark.sql(\"SELECT COUNT(*), VP FROM DMF\\\n",
    "    WHERE death_date is NULL\\\n",
    "    GROUP BY VP\\\n",
    "    ORDER BY COUNT(*) DESC\").collect()"
   ]
  },
  {
   "cell_type": "code",
   "execution_count": 10,
   "metadata": {},
   "outputs": [
    {
     "data": {
      "text/plain": [
       "1.4213253235173514e-05"
      ]
     },
     "execution_count": 10,
     "metadata": {},
     "output_type": "execute_result"
    }
   ],
   "source": [
    "df.where(\"death_date is NULL\").count() / rowCount"
   ]
  },
  {
   "cell_type": "code",
   "execution_count": 90,
   "metadata": {},
   "outputs": [
    {
     "data": {
      "text/plain": [
       "0.0"
      ]
     },
     "execution_count": 90,
     "metadata": {},
     "output_type": "execute_result"
    }
   ],
   "source": [
    "from pyspark.sql.functions import year\n",
    "df.where((df.birth_date != None) & (year(df.birth_date) > 2011)).count() / rowCount"
   ]
  },
  {
   "cell_type": "code",
   "execution_count": 91,
   "metadata": {},
   "outputs": [
    {
     "data": {
      "text/plain": [
       "0.0"
      ]
     },
     "execution_count": 91,
     "metadata": {},
     "output_type": "execute_result"
    }
   ],
   "source": [
    "df.where((df.death_date != None) & (year(df.death_date) > 2011)).count() / rowCount"
   ]
  },
  {
   "cell_type": "code",
   "execution_count": 10,
   "metadata": {},
   "outputs": [
    {
     "data": {
      "text/plain": [
       "[Row(max(month(death_date))=12)]"
      ]
     },
     "execution_count": 10,
     "metadata": {},
     "output_type": "execute_result"
    }
   ],
   "source": [
    "from pyspark.sql.functions import month, max\n",
    "df.agg(max(month(df.death_date))).collect()"
   ]
  },
  {
   "cell_type": "code",
   "execution_count": 24,
   "metadata": {},
   "outputs": [
    {
     "name": "stdout",
     "output_type": "stream",
     "text": [
      "19021900\n"
     ]
    }
   ],
   "source": [
    "import re\n",
    "print(re.sub(\"00(\\d{4})\",r'01\\1',\"19021900\"))\n"
   ]
  },
  {
   "cell_type": "code",
   "execution_count": 16,
   "metadata": {},
   "outputs": [
    {
     "name": "stdout",
     "output_type": "stream",
     "text": [
      "+-------+----------------+--------------------+---------+-----------+--------------------+------------------+--------+\n",
      "|summary|transaction_type|     security_number|last_name|name_suffix|          first_name|       middle_name|     V/P|\n",
      "+-------+----------------+--------------------+---------+-----------+--------------------+------------------+--------+\n",
      "|  count|        87735016|            87735016| 87735016|   87735016|            87735016|          87735016|87735016|\n",
      "|   mean|            null|3.2454605701826423E8|     null|       null| 2.765166666666667E8| 1.915335463258786|    null|\n",
      "| stddev|            null|1.6757388854785782E8|     null|       null|2.9333901984094167E8|1.8540821037063993|    null|\n",
      "|    min|                |           001010001|         |           |                    |                  |        |\n",
      "|    25%|            null|        1.96148997E8|     null|       null|                21.0|               0.0|    null|\n",
      "|    50%|            null|        3.35424957E8|     null|       null|        2.45359261E8|               2.0|    null|\n",
      "|    75%|            null|        4.61228264E8|     null|       null|        5.84190718E8|               3.0|    null|\n",
      "|    max|                |           899838980|  {URGESS|       VIII|              ZZLTAN|                 `|       V|\n",
      "+-------+----------------+--------------------+---------+-----------+--------------------+------------------+--------+\n",
      "\n"
     ]
    }
   ],
   "source": [
    "df.summary().show()"
   ]
  },
  {
   "cell_type": "code",
   "execution_count": 26,
   "metadata": {},
   "outputs": [
    {
     "data": {
      "text/plain": [
       "<matplotlib.axes._subplots.AxesSubplot at 0x7f6fc84dd208>"
      ]
     },
     "execution_count": 26,
     "metadata": {},
     "output_type": "execute_result"
    },
    {
     "data": {
      "image/png": "[encoded data removed]",
      "text/plain": [
       "<Figure size 432x288 with 1 Axes>"
      ]
     },
     "metadata": {
      "needs_background": "light"
     },
     "output_type": "display_data"
    }
   ],
   "source": [
    "import matplotlib.pyplot as plt\n",
    "from pyspark.sql.functions import year\n",
    "df.groupBy(year(df.death_date)).count().orderBy('year(death_date)').toPandas().plot(x='year(death_date)',y='count')"
   ]
  },
  {
   "cell_type": "code",
   "execution_count": 30,
   "metadata": {},
   "outputs": [
    {
     "data": {
      "text/plain": [
       "<matplotlib.axes._subplots.AxesSubplot at 0x7f6fc84b34e0>"
      ]
     },
     "execution_count": 30,
     "metadata": {},
     "output_type": "execute_result"
    },
    {
     "data": {
      "image/png": "[encoded data removed]",
      "text/plain": [
       "<Figure size 432x288 with 1 Axes>"
      ]
     },
     "metadata": {
      "needs_background": "light"
     },
     "output_type": "display_data"
    }
   ],
   "source": [
    "df.createOrReplaceTempView(\"DMF\")\n",
    "spark.sql(\"SELECT year(death_date),\\\n",
    "    avg(year(death_date)-year(birth_date)) as age\\\n",
    "    FROM DMF\\\n",
    "    GROUP BY year(death_date)\\\n",
    "    ORDER BY year(death_date)\").toPandas()\\\n",
    "    .plot(x='year(death_date)',y='age')"
   ]
  },
  {
   "cell_type": "code",
   "execution_count": 31,
   "metadata": {},
   "outputs": [
    {
     "name": "stdout",
     "output_type": "stream",
     "text": [
      "+----------+-------+\n",
      "|first_name|  count|\n",
      "+----------+-------+\n",
      "|      JOHN|2393041|\n",
      "|      MARY|1985966|\n",
      "|   WILLIAM|1970477|\n",
      "|     JAMES|1749077|\n",
      "|    ROBERT|1481577|\n",
      "+----------+-------+\n",
      "\n"
     ]
    }
   ],
   "source": [
    "df.groupBy(df.first_name).count().orderBy('count',ascending=False).limit(5).show()"
   ]
  },
  {
   "cell_type": "code",
   "execution_count": 8,
   "metadata": {},
   "outputs": [
    {
     "data": {
      "text/plain": [
       "<matplotlib.axes._subplots.AxesSubplot at 0x7f8a889f42e8>"
      ]
     },
     "execution_count": 8,
     "metadata": {},
     "output_type": "execute_result"
    },
    {
     "data": {
      "image/png": "[encoded data removed]",
      "text/plain": [
       "<Figure size 432x288 with 1 Axes>"
      ]
     },
     "metadata": {
      "needs_background": "light"
     },
     "output_type": "display_data"
    }
   ],
   "source": [
    "from pyspark.sql.functions import month\n",
    "df.groupBy(month(df.death_date))\\\n",
    "    .count()\\\n",
    "    .orderBy('month(death_date)')\\\n",
    "    .toPandas()\\\n",
    "    .plot(x='month(death_date)',y='count')"
   ]
  },
  {
   "cell_type": "code",
   "execution_count": null,
   "metadata": {},
   "outputs": [],
   "source": []
  }
 ],
 "metadata": {
  "kernelspec": {
   "display_name": "Python 3",
   "language": "python",
   "name": "python3"
  },
  "language_info": {
   "codemirror_mode": {
    "name": "ipython",
    "version": 3
   },
   "file_extension": ".py",
   "mimetype": "text/x-python",
   "name": "python",
   "nbconvert_exporter": "python",
   "pygments_lexer": "ipython3",
   "version": "3.7.1"
  }
 },
 "nbformat": 4,
 "nbformat_minor": 2
}
